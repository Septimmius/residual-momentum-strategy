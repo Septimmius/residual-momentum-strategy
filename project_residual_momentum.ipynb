{
 "cells": [
  {
   "cell_type": "code",
   "execution_count": 1,
   "metadata": {},
   "outputs": [],
   "source": [
    "import pandas as pd\n",
    "import numpy as np\n",
    "import time\n",
    "import statsmodels.api as sm\n",
    "from tqdm import tqdm"
   ]
  },
  {
   "cell_type": "code",
   "execution_count": 2,
   "metadata": {},
   "outputs": [
    {
     "name": "stdout",
     "output_type": "stream",
     "text": [
      "Step 1 completed in 13.4s\n"
     ]
    }
   ],
   "source": [
    "#direct = ('E:\\\\Dropbox\\\\A2Teaching\\\\COMM486_2018\\\\week7\\\\Investment2018\\\\')\n",
    "#direct = 'C:\\\\Users\\\\adlaif\\\\Dropbox\\A2Teaching\\BAFI519_2019\\class9\\Investment2018\\\\'\n",
    "direct = 'PortStrat2020/'\n",
    "\n",
    "#%%############################################################################\n",
    "# Step 1: Preparing the CRSP file\n",
    "###############################################################################\n",
    "timer = time.time() # record the current time, so we can measure how long the code takes to run\n",
    "\n",
    "# load data\n",
    "crsp = pd.read_csv(direct+'CRSP_Monthly_2018.csv')\n",
    "\n",
    "## formatting\n",
    "# You should see that one of the important variables 'RET' (return) is not a number but 'object'.\n",
    "# It is preferable to have this variable as a number, which Python denotes as float64 (float64 is just a special way of saying that a variable is a number)\n",
    "# If you are interested search for 'floating point number'on internet. But it is computer-science issue!\n",
    "\n",
    "# Changes the returns to number format\n",
    "crsp['RET'] = pd.to_numeric(crsp['RET'],errors='coerce') \n",
    "\n",
    "# Change the dateformat\n",
    "crsp['date'] = pd.to_datetime(crsp['date'], format='%Y%m%d')\n",
    "\n",
    "# create monthly date variable\n",
    "crsp['datem'] = crsp['date'].dt.to_period('M')\n",
    "\n",
    "## Some basic data cleaning\n",
    "# keep only common shares\n",
    "crsp = crsp[(crsp.SHRCD==10) | (crsp.SHRCD==11)] \n",
    "\n",
    "# keep only stocks from NYSE, AMEX and NASDAQ\n",
    "crsp = crsp[(crsp.EXCHCD==1) | (crsp.EXCHCD==2) | (crsp.EXCHCD==3)] \n",
    "\n",
    "# excludes prices below $1 \n",
    "#crsp = crsp[crsp.PRC >= 1]\n",
    "\n",
    "# make sure that there are no duplicates\n",
    "crsp = crsp.drop_duplicates(subset=['date','PERMNO'])\n",
    "\n",
    "# get crsp returns in \"wide\" format (i.e. \"pivot\" the crsp data set)\n",
    "ret = crsp.pivot(index='datem',columns='PERMNO',values='RET')\n",
    "\n",
    "print('Step 1 completed in %.1fs' % (time.time()-timer)) # show how long it took to run this code block\n"
   ]
  },
  {
   "cell_type": "code",
   "execution_count": 6,
   "metadata": {},
   "outputs": [
    {
     "name": "stderr",
     "output_type": "stream",
     "text": [
      "100%|██████████| 421/421 [49:15<00:00,  7.02s/it]"
     ]
    },
    {
     "name": "stdout",
     "output_type": "stream",
     "text": [
      "Step 2b completed in 2955.4s\n"
     ]
    },
    {
     "name": "stderr",
     "output_type": "stream",
     "text": [
      "\n"
     ]
    }
   ],
   "source": [
    "#%%############################################################################\n",
    "# Step 2b: Calculate Residuals\n",
    "###############################################################################\n",
    "\n",
    "# this part takes a while to run (20min on Julian's laptop)\n",
    "# set calculateBetas_m=True to run this section, calculateBetas_m=False to skip\n",
    "calculateResid_m = True\n",
    "\n",
    "if calculateResid_m:\n",
    "    timer = time.time() # record the current time, so we can measure how long the code takes to run\n",
    "    \n",
    "    ## prepare data\n",
    "    # for performance reasons, we mostly work with numpy arrays instead of pandas in this section\n",
    "    # load fama french factors\n",
    "    ff = pd.read_csv(direct+'F-F_Research_Data_Factors_2018.csv')\n",
    "    #factors = ff.copy()\n",
    "    #print(ff)\n",
    "    # align the dates of the factors with the returns\n",
    "    ff['DATE'] = pd.to_datetime(ff['DATE'],format='%Y%m').dt.to_period('M')\n",
    "    ff.set_index('DATE',inplace=True)\n",
    "    \n",
    "    ff = ff.reindex(ret.index)\n",
    "    \n",
    "    # divide by 100 (FF data is stored in percent)\n",
    "    ff = ff / 100\n",
    "    #print(ff)\n",
    "    # get market factor and excess returns as numpy arrays\n",
    "    #mkt = ff['Mkt-RF'].values\n",
    "    factors = ff[['Mkt-RF', 'SMB', 'HML']].values\n",
    "    eret = ret.sub(ff['RF'].values,axis=0).values # subtract ff['RF'] from each column of ret\n",
    "    \n",
    "    \n",
    "    ## calculate betas\n",
    "    # nmonths: calculate betas based on the most recent nmonths number of months\n",
    "    nmonths = 3*12\n",
    "    \n",
    "    # minobs: require at least this number of non-nan observations to calculate beta, otherwise beta is nan\n",
    "    minobs = 3*12\n",
    "    \n",
    "    # calculate\n",
    "    #beta = np.empty(eret.shape)\n",
    "    rmom12_2 = np.empty(eret.shape)\n",
    "    rmom12_2[:,:] = np.NAN\n",
    "    for t in tqdm(range(nmonths-1,eret.shape[0])):\n",
    "        for j in range(0,eret.shape[1]):\n",
    "            eret_subset = eret[t-nmonths+1:t+1,j]\n",
    "            mask = ~np.isnan(eret_subset) # observations in range with non-nan values\n",
    "            if(sum(mask) >= minobs):\n",
    "                # from the regression, only obtain residuals from t-2 to t-12 \n",
    "                resid12_2 = sm.OLS(eret_subset[mask],\n",
    "                                    sm.add_constant(factors[t-nmonths+1:t+1][mask])).fit().resid[24:35]\n",
    "                # calculate residual momentum\n",
    "                rmom12_2[t,j] = resid12_2.sum() / resid12_2.std()\n",
    "                \n",
    "    \n",
    "    # convert results to pandas dataframe\n",
    "    df_rmom12_2 = pd.DataFrame(rmom12_2, index=ret.index, columns=ret.columns)\n",
    "    del rmom12_2\n",
    "    \n",
    "    print('Step 2b completed in %.1fs' % (time.time()-timer)) # show how long it took to run this code block"
   ]
  },
  {
   "cell_type": "code",
   "execution_count": 8,
   "metadata": {},
   "outputs": [],
   "source": [
    "df_rmom12_2.to_csv('rmom12_2_1980_2017.csv')"
   ]
  }
 ],
 "metadata": {
  "kernelspec": {
   "display_name": "big_data",
   "language": "python",
   "name": "big_data"
  },
  "language_info": {
   "codemirror_mode": {
    "name": "ipython",
    "version": 3
   },
   "file_extension": ".py",
   "mimetype": "text/x-python",
   "name": "python",
   "nbconvert_exporter": "python",
   "pygments_lexer": "ipython3",
   "version": "3.7.0"
  }
 },
 "nbformat": 4,
 "nbformat_minor": 4
}
